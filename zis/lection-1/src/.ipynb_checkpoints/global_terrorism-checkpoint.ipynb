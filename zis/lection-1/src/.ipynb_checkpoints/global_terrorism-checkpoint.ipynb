{
 "cells": [
  {
   "cell_type": "raw",
   "id": "5c2f9a45-fef7-4323-938b-973288ad6230",
   "metadata": {},
   "source": [
    "В качестве исследуемых данных возьмём базу данных глобального терроризма с 1970 по 2017 год (https://www.kaggle.com/datasets/START-UMD/gtd).\n",
    "В качестве самостоятельного задания выберем следующее - найти зависимость по годам, количеству жертв и количеству терактов в США"
   ]
  },
  {
   "cell_type": "code",
   "execution_count": 2,
   "id": "1ba050ec-8564-4852-a862-0d043ea40529",
   "metadata": {},
   "outputs": [
    {
     "name": "stdout",
     "output_type": "stream",
     "text": [
      "Requirement already satisfied: pandas in c:\\users\\ilnur\\projects\\kpfu\\zis\\lection-1\\lib\\site-packages (2.2.0)\n",
      "Requirement already satisfied: numpy<2,>=1.26.0 in c:\\users\\ilnur\\projects\\kpfu\\zis\\lection-1\\lib\\site-packages (from pandas) (1.26.4)\n",
      "Requirement already satisfied: python-dateutil>=2.8.2 in c:\\users\\ilnur\\projects\\kpfu\\zis\\lection-1\\lib\\site-packages (from pandas) (2.8.2)\n",
      "Requirement already satisfied: pytz>=2020.1 in c:\\users\\ilnur\\projects\\kpfu\\zis\\lection-1\\lib\\site-packages (from pandas) (2024.1)\n",
      "Requirement already satisfied: tzdata>=2022.7 in c:\\users\\ilnur\\projects\\kpfu\\zis\\lection-1\\lib\\site-packages (from pandas) (2024.1)\n",
      "Requirement already satisfied: six>=1.5 in c:\\users\\ilnur\\projects\\kpfu\\zis\\lection-1\\lib\\site-packages (from python-dateutil>=2.8.2->pandas) (1.16.0)\n"
     ]
    }
   ],
   "source": [
    "!pip install pandas"
   ]
  },
  {
   "cell_type": "code",
   "execution_count": null,
   "id": "6a18a91b-512a-43ed-a56b-e096b0c24cdd",
   "metadata": {},
   "outputs": [],
   "source": []
  }
 ],
 "metadata": {
  "kernelspec": {
   "display_name": "Python 3 (ipykernel)",
   "language": "python",
   "name": "python3"
  },
  "language_info": {
   "codemirror_mode": {
    "name": "ipython",
    "version": 3
   },
   "file_extension": ".py",
   "mimetype": "text/x-python",
   "name": "python",
   "nbconvert_exporter": "python",
   "pygments_lexer": "ipython3",
   "version": "3.12.2"
  }
 },
 "nbformat": 4,
 "nbformat_minor": 5
}
